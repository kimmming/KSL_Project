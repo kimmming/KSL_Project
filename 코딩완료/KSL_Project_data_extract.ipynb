{
 "cells": [
  {
   "cell_type": "code",
   "execution_count": 2,
   "metadata": {},
   "outputs": [],
   "source": [
    "from KSL_Json_data_class_V3 import Json_Data\n",
    "from KSL_Frame_class_V3 import Frame_Data"
   ]
  },
  {
   "cell_type": "code",
   "execution_count": 2,
   "metadata": {},
   "outputs": [],
   "source": [
    "# json data 추출 및 저장\n",
    "Path1 = 'E:/수어 영상/1.Training/[라벨]01_real_word_morpheme/morpheme/0{}/'\n",
    "Path2 = 'E:/수어 영상/1.Training/[라벨]01_real_word_morpheme/morpheme/{}/'\n",
    "jsonpath_list = [Path1.format(i) if i<10 else Path2.format(i) for i in range(1,17)]\n",
    "\n",
    "len = None\n",
    "\n",
    "JD = Json_Data()\n",
    "for i in range(15):\n",
    "    JD.extract_data(jsonpath_list[i], lenght=len, save_word_label=True, save_label=False)\n",
    "    JD.data_save()\n",
    "JD.extract_data(jsonpath_list[15], lenght=len, save_word_label=True, save_label=False)\n",
    "JD.data_save()"
   ]
  },
  {
   "cell_type": "code",
   "execution_count": 3,
   "metadata": {},
   "outputs": [
    {
     "name": "stdout",
     "output_type": "stream",
     "text": [
      "Errdr_idx:0\n",
      "Errdr_idx:1000\n",
      "Errdr_idx:2000\n",
      "Errdr_idx:3000\n",
      "Errdr_idx:4000\n",
      "Errdr_idx:5000\n",
      "Errdr_idx:6000\n",
      "Errdr_idx:7000\n",
      "Errdr_idx:8000\n",
      "Errdr_idx:9000\n",
      "Errdr_idx:10000\n",
      "Errdr_idx:11000\n",
      "Errdr_idx:12000\n",
      "Errdr_idx:13000\n",
      "Errdr_idx:14000\n",
      "----------------------------------------------------------------------------------------------------\n",
      "frame count:0\n"
     ]
    }
   ],
   "source": [
    "# video 프레임 추출 및 저장\n",
    "timepath = 'C:/Users/moons/Desktop/Python_code/sign_language/saved_data/220514_15000/time_01'\n",
    "errorpath = 'C:/Users/moons/Desktop/Python_code/sign_language/saved_data/220514_15000/error_01'\n",
    "videopath = 'E:/수어 영상/1.Training/[원천]01_real_word_video/01/'\n",
    "savepath = 'E:/numpy_image'\n",
    "\n",
    "FD = Frame_Data()\n",
    "FD.jsondata_load(timepath)\n",
    "FD.Error(videopath, errorpath, save_err_path=savepath, name='01')\n",
    "FD.extract_frame(videopath, lenght=50, frame_limit=70)\n",
    "FD.save_data(savepath,'01')"
   ]
  }
 ],
 "metadata": {
  "interpreter": {
   "hash": "84d2a303c8fb0584efde6d23b4b0e0974203c916c455eaa2a8995aedb008b56e"
  },
  "kernelspec": {
   "display_name": "Python 3.9.10 64-bit",
   "language": "python",
   "name": "python3"
  },
  "language_info": {
   "codemirror_mode": {
    "name": "ipython",
    "version": 3
   },
   "file_extension": ".py",
   "mimetype": "text/x-python",
   "name": "python",
   "nbconvert_exporter": "python",
   "pygments_lexer": "ipython3",
   "version": "3.9.10"
  },
  "orig_nbformat": 4
 },
 "nbformat": 4,
 "nbformat_minor": 2
}
